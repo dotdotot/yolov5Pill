{
 "cells": [
  {
   "cell_type": "code",
   "execution_count": 1,
   "id": "85fb855b",
   "metadata": {},
   "outputs": [],
   "source": [
    "import pandas as pd\n",
    "import numpy as np\n",
    "import matplotlib.pyplot as plt\n",
    "import seaborn as sns\n",
    "\n",
    "import tensorflow as tf\n",
    "import os\n",
    "import PIL\n",
    "import shutil"
   ]
  },
  {
   "cell_type": "code",
   "execution_count": 2,
   "id": "b0b3f807",
   "metadata": {},
   "outputs": [
    {
     "name": "stdout",
     "output_type": "stream",
     "text": [
      "Total training circle images : 82\n",
      "Total training hexagon images : 33\n",
      "Total training pentagon images : 52\n",
      "Total training rectangle images : 60\n",
      "Total training rectangular images : 86\n",
      "Total training triangle images : 43\n",
      "Total validation circle images : 25\n",
      "Total validation hexagon images : 11\n",
      "Total validation pentagon images : 11\n",
      "Total validation rectangle images : 15\n",
      "Total validation rectangular images : 25\n",
      "Total validation triangle images : 17\n",
      "Total test circle images : 10\n",
      "Total test hexagon images : 6\n",
      "Total test pentagon images : 6\n",
      "Total test rectangle images : 10\n",
      "Total test rectangular images : 15\n",
      "Total test triangle images : 10\n"
     ]
    }
   ],
   "source": [
    "# 기본 경로\n",
    "base_dir = 'C:\\\\vsCode\\PillProject\\image\\shape\\\\'\n",
    "train_dir = os.path.join(base_dir, 'train')\n",
    "validation_dir = os.path.join(base_dir, 'validation')\n",
    "test_dir = os.path.join(base_dir, 'test')\n",
    "\n",
    "# 훈련용 이미지 경로\n",
    "train_circle_dir = os.path.join(train_dir, 'circle')\n",
    "train_hexagon_dir = os.path.join(train_dir, 'hexagon')\n",
    "train_pentagon_dir = os.path.join(train_dir, 'pentagon')\n",
    "train_rectangle_dir = os.path.join(train_dir, 'rectangle')\n",
    "train_rectangular_dir = os.path.join(train_dir, 'rectangular')\n",
    "train_triangle_dir = os.path.join(train_dir, 'triangle')\n",
    "\n",
    "# 검증용 이미지 경로\n",
    "validation_circle_dir = os.path.join(validation_dir, 'circle')\n",
    "validation_hexagon_dir = os.path.join(validation_dir, 'hexagon')\n",
    "validation_pentagon_dir = os.path.join(validation_dir, 'pentagon')\n",
    "validation_rectangle_dir = os.path.join(validation_dir, 'rectangle')\n",
    "validation_rectangular_dir = os.path.join(validation_dir, 'rectangular')\n",
    "validation_triangle_dir = os.path.join(validation_dir, 'triangle')\n",
    "\n",
    "# 테스트용 이미지 경로\n",
    "test_circle_dir = os.path.join(test_dir, 'circle')\n",
    "test_hexagon_dir = os.path.join(test_dir, 'hexagon')\n",
    "test_pentagon_dir = os.path.join(test_dir, 'pentagon')\n",
    "test_rectangle_dir = os.path.join(test_dir, 'rectangle')\n",
    "test_rectangular_dir = os.path.join(test_dir, 'rectangular')\n",
    "test_triangle_dir = os.path.join(test_dir, 'triangle')\n",
    "\n",
    "# 훈련용 이미지 파일 이름 조회\n",
    "train_circle_fnames = os.listdir(train_circle_dir)\n",
    "train_hexagon_fnames = os.listdir(train_hexagon_dir)\n",
    "train_pentagon_fnames = os.listdir(train_pentagon_dir)\n",
    "train_rectangle_fnames = os.listdir(train_rectangle_dir)\n",
    "train_rectangular_fnames = os.listdir(train_rectangular_dir)\n",
    "train_triangle_fnames = os.listdir(train_triangle_dir)\n",
    "\n",
    "print('Total training circle images :', len(os.listdir(train_circle_dir)))\n",
    "print('Total training hexagon images :', len(os.listdir(train_hexagon_dir)))\n",
    "print('Total training pentagon images :', len(os.listdir(train_pentagon_dir)))\n",
    "print('Total training rectangle images :', len(os.listdir(train_rectangle_dir)))\n",
    "print('Total training rectangular images :', len(os.listdir(train_rectangular_dir)))\n",
    "print('Total training triangle images :', len(os.listdir(train_triangle_dir)))\n",
    "\n",
    "print('Total validation circle images :', len(os.listdir(validation_circle_dir)))\n",
    "print('Total validation hexagon images :', len(os.listdir(validation_hexagon_dir)))\n",
    "print('Total validation pentagon images :', len(os.listdir(validation_pentagon_dir)))\n",
    "print('Total validation rectangle images :', len(os.listdir(validation_rectangle_dir)))\n",
    "print('Total validation rectangular images :', len(os.listdir(validation_rectangular_dir)))\n",
    "print('Total validation triangle images :', len(os.listdir(validation_triangle_dir)))\n",
    "\n",
    "print('Total test circle images :', len(os.listdir(test_circle_dir)))\n",
    "print('Total test hexagon images :', len(os.listdir(test_hexagon_dir)))\n",
    "print('Total test pentagon images :', len(os.listdir(test_pentagon_dir)))\n",
    "print('Total test rectangle images :', len(os.listdir(test_rectangle_dir)))\n",
    "print('Total test rectangular images :', len(os.listdir(test_rectangular_dir)))\n",
    "print('Total test triangle images :', len(os.listdir(test_triangle_dir)))"
   ]
  },
  {
   "cell_type": "code",
   "execution_count": 3,
   "id": "21f13938",
   "metadata": {},
   "outputs": [
    {
     "data": {
      "text/plain": [
       "<Figure size 864x864 with 0 Axes>"
      ]
     },
     "metadata": {},
     "output_type": "display_data"
    }
   ],
   "source": [
    "# 이미지 확인\n",
    "import matplotlib.pyplot as plt\n",
    "import matplotlib.image as mpimg\n",
    "\n",
    "nrows, ncols = 4, 4\n",
    "pic_index = 0\n",
    "\n",
    "fig = plt.gcf()\n",
    "fig.set_size_inches(ncols*3, nrows*3)\n",
    "\n",
    "pic_index += 8\n",
    "\n",
    "next_circle_pix = [os.path.join(train_circle_dir, fname) for fname in train_circle_fnames[pic_index-8:pic_index]]\n",
    "next_hexagon_pix = [os.path.join(train_hexagon_dir, fname) for fname in train_hexagon_fnames[pic_index-8:pic_index]]\n",
    "next_pentagon_pix = [os.path.join(train_pentagon_dir, fname) for fname in train_pentagon_fnames[pic_index-8:pic_index]]\n",
    "next_rectangle_pix = [os.path.join(train_rectangle_dir, fname) for fname in train_rectangle_fnames[pic_index-8:pic_index]]\n",
    "next_rectangular_pix = [os.path.join(train_rectangular_dir, fname) for fname in train_rectangular_fnames[pic_index-8:pic_index]]\n",
    "next_triangle_pix = [os.path.join(train_triangle_dir, fname) for fname in train_triangle_fnames[pic_index-8:pic_index]]"
   ]
  },
  {
   "cell_type": "code",
   "execution_count": 4,
   "id": "7bccc732",
   "metadata": {},
   "outputs": [],
   "source": [
    "# 이미지 데이터 전처리\n",
    "from tensorflow.keras.preprocessing import image\n",
    "from tensorflow.keras.preprocessing.image import ImageDataGenerator\n",
    "\n",
    "# Image augmentation\n",
    "# train셋에만 적용\n",
    "train_datagen = ImageDataGenerator(rescale = 1./255, # 모든 이미지 원소값들을 255로 나누기\n",
    "                                   rotation_range=25, # 0~25도 사이에서 임의의 각도로 원본이미지를 회전\n",
    "                                   width_shift_range=0.05, # 0.05범위 내에서 임의의 값만큼 임의의 방향으로 좌우 이동\n",
    "                                   height_shift_range=0.05, # 0.05범위 내에서 임의의 값만큼 임의의 방향으로 상하 이동\n",
    "                                   zoom_range=0.2, # (1-0.2)~(1+0.2) => 0.8~1.2 사이에서 임의의 수치만큼 확대/축소\n",
    "                                   horizontal_flip=True, # 좌우로 뒤집기                                   \n",
    "                                   vertical_flip=True, # vertical_flip: 불리언. 인풋을 무작위로 세로로 뒤집습니다.\n",
    "                                   fill_mode='nearest' # fill_mode 이미지를 회전, 이동하거나 축소할 때 생기는 공간을 채우는 방식\n",
    "                                  ) \n",
    "# validation 및 test 이미지는 augmentation을 적용하지 않는다;\n",
    "# 모델 성능을 평가할 때에는 이미지 원본을 사용 (rescale만 진행)\n",
    "validation_datagen = ImageDataGenerator(rescale = 1./255)\n",
    "test_datagen = ImageDataGenerator(rescale = 1./255) "
   ]
  },
  {
   "cell_type": "code",
   "execution_count": 5,
   "id": "6ad7526d",
   "metadata": {},
   "outputs": [
    {
     "name": "stdout",
     "output_type": "stream",
     "text": [
      "Found 356 images belonging to 6 classes.\n",
      "Found 104 images belonging to 6 classes.\n",
      "Found 57 images belonging to 6 classes.\n"
     ]
    }
   ],
   "source": [
    "# flow_from_directory() 메서드를 이용해서 훈련과 테스트에 사용될 이미지 데이터를 만들기\n",
    "# 변환된 이미지 데이터 생성\n",
    "train_generator = train_datagen.flow_from_directory(train_dir, \n",
    "                                                    batch_size=16, # 한번에 변환된 이미지 16개씩 만들어라 라는 것\n",
    "#                                                     color_mode: \"grayscale\"과 \"rbg\" 중 하나. 디폴트 값: \"rgb\". 이미지가 1개 혹은 3개의 색깔 채널을 갖도록 변환할지 여부.\n",
    "                                                    color_mode='grayscale', # 흑백 이미지 처리\n",
    "# class_mode: \"categorical\", \"binary\", \"sparse\", \"input\", 혹은 None 중 하나. 디폴트 값: \"categorical\". 반환될 라벨 배열의 종류를 결정합니다:\n",
    "# \"categorical\"은 2D형태의 원-핫 인코딩된 라벨입니다,\n",
    "# \"binary\"는 1D 형태의 이진 라벨입니다, \"sparse\"는 1D 형태의 정수 라벨입니다,\n",
    "# \"input\"은 인풋 이미지와 동일한 이미지입니다 (주로 자동 인코더와 함께 사용합니다).\n",
    "# None의 경우, 어떤 라벨되 반환되지 않습니다 (생성자가 이미지 데이터의 배치만 만들기 때문에, model.predict_generator(), model.evaluate_generator() 등과 함께 사용하는 것이 유용합니다). \n",
    "# class_mode가 None일 경우, 제대로 작동하려면 데이터가 directory 내 하위 디렉토리에 위치해야 한다는 점을 유의하십시오.\n",
    "                                                    class_mode='categorical', \n",
    "                                                    target_size=(150,150)) # target_size에 맞춰서 이미지의 크기가 조절된다\n",
    "validation_generator = validation_datagen.flow_from_directory(validation_dir, \n",
    "                                                              batch_size=4, \n",
    "                                                              color_mode='grayscale',\n",
    "                                                              class_mode='categorical', \n",
    "                                                              target_size=(150,150))\n",
    "test_generator = test_datagen.flow_from_directory(test_dir,\n",
    "                                                  batch_size=4,\n",
    "                                                  color_mode='grayscale',\n",
    "                                                  class_mode='categorical',\n",
    "                                                  target_size=(150,150))\n",
    "# 참고로, generator 생성시 batch_size x steps_per_epoch (model fit에서) <= 훈련 샘플 수 보다 작거나 같아야 한다."
   ]
  },
  {
   "cell_type": "code",
   "execution_count": 6,
   "id": "7b99f64d",
   "metadata": {},
   "outputs": [
    {
     "data": {
      "text/plain": [
       "{'circle': 0,\n",
       " 'hexagon': 1,\n",
       " 'pentagon': 2,\n",
       " 'rectangle': 3,\n",
       " 'rectangular': 4,\n",
       " 'triangle': 5}"
      ]
     },
     "execution_count": 6,
     "metadata": {},
     "output_type": "execute_result"
    }
   ],
   "source": [
    "# class 확인\n",
    "train_generator.class_indices"
   ]
  },
  {
   "cell_type": "code",
   "execution_count": 7,
   "id": "d19871b2",
   "metadata": {},
   "outputs": [
    {
     "data": {
      "image/png": "[encoded data removed]",
      "text/plain": [
       "<Figure size 432x288 with 1 Axes>"
      ]
     },
     "metadata": {
      "needs_background": "light"
     },
     "output_type": "display_data"
    }
   ],
   "source": [
    "# 이미지 하나 불러오기\n",
    "sample_img = mpimg.imread(next_circle_pix[0])\n",
    "plt.imshow(sample_img)\n",
    "plt.show()\n"
   ]
  },
  {
   "cell_type": "code",
   "execution_count": 8,
   "id": "a6af2b7b",
   "metadata": {},
   "outputs": [
    {
     "data": {
      "image/png": "[encoded data removed]",
      "text/plain": [
       "<Figure size 720x720 with 4 Axes>"
      ]
     },
     "metadata": {
      "needs_background": "light"
     },
     "output_type": "display_data"
    }
   ],
   "source": [
    "max_iter = 4\n",
    "cnt = 1\n",
    "sample_img2 = sample_img[np.newaxis, ...]\n",
    "# 축을 하나 추가했는데, 하나의 이미지만 바꿔주는게 아니라 동시에 여러개의 이미지를 바꿔줄 수 있기에,\n",
    "# 그림 개수/장수 까지 받아서 4차원으로 (개수/장수, h, w, channel) 이렇게 받는다\n",
    "# 쉽게 말해, 받는 형식이 4차원이라서 4차원 형태로 만들어 준것\n",
    "plt.figure(figsize=(10,10))\n",
    "for img in train_datagen.flow(sample_img2):\n",
    "    plt.subplot(1, max_iter, cnt)\n",
    "    plt.imshow(image.array_to_img(img[0]))\n",
    "    if cnt == max_iter:\n",
    "        break\n",
    "    cnt += 1"
   ]
  },
  {
   "cell_type": "code",
   "execution_count": 10,
   "id": "053f96a3",
   "metadata": {},
   "outputs": [
    {
     "name": "stdout",
     "output_type": "stream",
     "text": [
      "Model: \"sequential_1\"\n",
      "_________________________________________________________________\n",
      " Layer (type)                Output Shape              Param #   \n",
      "=================================================================\n",
      " conv2d_3 (Conv2D)           (None, 148, 148, 16)      160       \n",
      "                                                                 \n",
      " max_pooling2d_3 (MaxPooling  (None, 74, 74, 16)       0         \n",
      " 2D)                                                             \n",
      "                                                                 \n",
      " conv2d_4 (Conv2D)           (None, 72, 72, 32)        4640      \n",
      "                                                                 \n",
      " max_pooling2d_4 (MaxPooling  (None, 36, 36, 32)       0         \n",
      " 2D)                                                             \n",
      "                                                                 \n",
      " conv2d_5 (Conv2D)           (None, 34, 34, 32)        9248      \n",
      "                                                                 \n",
      " max_pooling2d_5 (MaxPooling  (None, 17, 17, 32)       0         \n",
      " 2D)                                                             \n",
      "                                                                 \n",
      " flatten_1 (Flatten)         (None, 9248)              0         \n",
      "                                                                 \n",
      " dense_2 (Dense)             (None, 512)               4735488   \n",
      "                                                                 \n",
      " dense_3 (Dense)             (None, 1)                 513       \n",
      "                                                                 \n",
      "=================================================================\n",
      "Total params: 4,750,049\n",
      "Trainable params: 4,750,049\n",
      "Non-trainable params: 0\n",
      "_________________________________________________________________\n"
     ]
    }
   ],
   "source": [
    "# 합성곱 신경망 모델 구성하기\n",
    "import tensorflow as tf\n",
    "\n",
    "model = tf.keras.models.Sequential([\n",
    "    tf.keras.layers.Conv2D(16, (3,3), activation='relu', input_shape=(150, 150, 1)),\n",
    "    tf.keras.layers.MaxPooling2D(2,2),\n",
    "    tf.keras.layers.Conv2D(32, (3,3), activation='relu'),\n",
    "    tf.keras.layers.MaxPooling2D(2,2),\n",
    "    tf.keras.layers.Conv2D(32, (3,3), activation='relu'),\n",
    "    tf.keras.layers.MaxPooling2D(2,2),\n",
    "    tf.keras.layers.Flatten(),\n",
    "    tf.keras.layers.Dense(512, activation='relu'),\n",
    "    tf.keras.layers.Dense(1, activation='sigmoid')\n",
    "])\n",
    "model.summary() # 신경망의 구조 확인"
   ]
  },
  {
   "cell_type": "code",
   "execution_count": 13,
   "id": "925184ce",
   "metadata": {},
   "outputs": [],
   "source": [
    "from tensorflow.keras.optimizers import RMSprop\n",
    "\n",
    "# compile() 메서드를 이용해서 손실 함수 (loss function)와 옵티마이저 (optimizer)를 지정\n",
    "model.compile(optimizer=RMSprop(learning_rate=0.001), # 옵티마이저로는 RMSprop 사용\n",
    "            #   Multi-class classification 즉 클래스가 여러 개인 다중 분류 문제에서 사용\n",
    "              loss='binary_crossentropy', # 손실 함수로 categorical_crossentropy 사용\n",
    "              metrics= ['accuracy'])\n",
    "# RMSprop (Root Mean Square Propagation) Algorithm: 훈련 과정 중에 학습률을 적절하게 변화시킨다."
   ]
  },
  {
   "cell_type": "code",
   "execution_count": 14,
   "id": "a305e3c3",
   "metadata": {},
   "outputs": [
    {
     "name": "stdout",
     "output_type": "stream",
     "text": [
      "Epoch 1/100\n"
     ]
    },
    {
     "name": "stderr",
     "output_type": "stream",
     "text": [
      "C:\\Users\\rlawn\\AppData\\Local\\Temp\\ipykernel_12324\\2210425463.py:2: UserWarning: `Model.fit_generator` is deprecated and will be removed in a future version. Please use `Model.fit`, which supports generators.\n",
      "  history = model.fit_generator(train_generator, # train_generator안에 X값, y값 다 있으니 generator만 주면 된다\n"
     ]
    },
    {
     "name": "stdout",
     "output_type": "stream",
     "text": [
      "4/4 - 2s - loss: 1.0023 - accuracy: 0.6667 - val_loss: 0.4690 - val_accuracy: 0.8333 - 2s/epoch - 609ms/step\n",
      "Epoch 2/100\n",
      "4/4 - 2s - loss: 0.4565 - accuracy: 0.8333 - val_loss: 0.4510 - val_accuracy: 0.8333 - 2s/epoch - 380ms/step\n",
      "Epoch 3/100\n",
      "4/4 - 1s - loss: 0.4509 - accuracy: 0.8333 - val_loss: 0.4513 - val_accuracy: 0.8333 - 1s/epoch - 317ms/step\n",
      "Epoch 4/100\n",
      "4/4 - 1s - loss: 0.4513 - accuracy: 0.8333 - val_loss: 0.4528 - val_accuracy: 0.8333 - 1s/epoch - 336ms/step\n",
      "Epoch 5/100\n",
      "4/4 - 1s - loss: 0.4637 - accuracy: 0.8333 - val_loss: 0.5170 - val_accuracy: 0.8333 - 1s/epoch - 328ms/step\n",
      "Epoch 6/100\n",
      "4/4 - 1s - loss: 0.4890 - accuracy: 0.8333 - val_loss: 0.4739 - val_accuracy: 0.8333 - 1s/epoch - 290ms/step\n",
      "Epoch 7/100\n",
      "4/4 - 1s - loss: 0.4675 - accuracy: 0.8333 - val_loss: 0.4659 - val_accuracy: 0.8333 - 1s/epoch - 253ms/step\n",
      "Epoch 8/100\n",
      "4/4 - 1s - loss: 0.4681 - accuracy: 0.8333 - val_loss: 0.4736 - val_accuracy: 0.8333 - 1s/epoch - 261ms/step\n",
      "Epoch 9/100\n",
      "4/4 - 1s - loss: 0.4687 - accuracy: 0.8333 - val_loss: 0.4686 - val_accuracy: 0.8333 - 981ms/epoch - 245ms/step\n",
      "Epoch 10/100\n",
      "4/4 - 1s - loss: 0.4639 - accuracy: 0.8333 - val_loss: 0.4646 - val_accuracy: 0.8333 - 906ms/epoch - 227ms/step\n",
      "Epoch 11/100\n",
      "4/4 - 1s - loss: 0.4632 - accuracy: 0.8333 - val_loss: 0.4648 - val_accuracy: 0.8333 - 952ms/epoch - 238ms/step\n",
      "Epoch 12/100\n",
      "4/4 - 1s - loss: 0.4622 - accuracy: 0.8333 - val_loss: 0.4613 - val_accuracy: 0.8333 - 920ms/epoch - 230ms/step\n",
      "Epoch 13/100\n",
      "4/4 - 1s - loss: 0.4618 - accuracy: 0.8333 - val_loss: 0.4632 - val_accuracy: 0.8333 - 938ms/epoch - 234ms/step\n",
      "Epoch 14/100\n",
      "4/4 - 1s - loss: 0.4599 - accuracy: 0.8333 - val_loss: 0.4620 - val_accuracy: 0.8333 - 854ms/epoch - 214ms/step\n",
      "Epoch 15/100\n",
      "4/4 - 1s - loss: 0.4657 - accuracy: 0.8333 - val_loss: 0.4661 - val_accuracy: 0.8333 - 934ms/epoch - 233ms/step\n",
      "Epoch 16/100\n",
      "4/4 - 1s - loss: 0.4601 - accuracy: 0.8333 - val_loss: 0.4589 - val_accuracy: 0.8333 - 1s/epoch - 255ms/step\n",
      "Epoch 17/100\n",
      "4/4 - 1s - loss: 0.4582 - accuracy: 0.8333 - val_loss: 0.4611 - val_accuracy: 0.8333 - 795ms/epoch - 199ms/step\n",
      "Epoch 18/100\n",
      "4/4 - 1s - loss: 0.4612 - accuracy: 0.8333 - val_loss: 0.4633 - val_accuracy: 0.8333 - 872ms/epoch - 218ms/step\n",
      "Epoch 19/100\n",
      "4/4 - 1s - loss: 0.4611 - accuracy: 0.8333 - val_loss: 0.4597 - val_accuracy: 0.8333 - 853ms/epoch - 213ms/step\n",
      "Epoch 20/100\n",
      "4/4 - 1s - loss: 0.4573 - accuracy: 0.8333 - val_loss: 0.4578 - val_accuracy: 0.8333 - 945ms/epoch - 236ms/step\n",
      "Epoch 21/100\n",
      "4/4 - 1s - loss: 0.4595 - accuracy: 0.8333 - val_loss: 0.4654 - val_accuracy: 0.8333 - 919ms/epoch - 230ms/step\n",
      "Epoch 22/100\n",
      "4/4 - 1s - loss: 0.4625 - accuracy: 0.8333 - val_loss: 0.4627 - val_accuracy: 0.8333 - 723ms/epoch - 181ms/step\n",
      "Epoch 23/100\n",
      "4/4 - 1s - loss: 0.4583 - accuracy: 0.8333 - val_loss: 0.4585 - val_accuracy: 0.8333 - 910ms/epoch - 228ms/step\n",
      "Epoch 24/100\n",
      "4/4 - 1s - loss: 0.4571 - accuracy: 0.8333 - val_loss: 0.4577 - val_accuracy: 0.8333 - 890ms/epoch - 222ms/step\n",
      "Epoch 25/100\n",
      "4/4 - 1s - loss: 0.4601 - accuracy: 0.8333 - val_loss: 0.4615 - val_accuracy: 0.8333 - 867ms/epoch - 217ms/step\n",
      "Epoch 26/100\n",
      "4/4 - 1s - loss: 0.4598 - accuracy: 0.8333 - val_loss: 0.4588 - val_accuracy: 0.8333 - 853ms/epoch - 213ms/step\n",
      "Epoch 27/100\n",
      "4/4 - 1s - loss: 0.4572 - accuracy: 0.8333 - val_loss: 0.4586 - val_accuracy: 0.8333 - 959ms/epoch - 240ms/step\n",
      "Epoch 28/100\n",
      "4/4 - 1s - loss: 0.4575 - accuracy: 0.8333 - val_loss: 0.4582 - val_accuracy: 0.8333 - 899ms/epoch - 225ms/step\n",
      "Epoch 29/100\n",
      "4/4 - 1s - loss: 0.4585 - accuracy: 0.8333 - val_loss: 0.4603 - val_accuracy: 0.8333 - 887ms/epoch - 222ms/step\n",
      "Epoch 30/100\n",
      "4/4 - 1s - loss: 0.4576 - accuracy: 0.8333 - val_loss: 0.4586 - val_accuracy: 0.8333 - 837ms/epoch - 209ms/step\n",
      "Epoch 31/100\n",
      "4/4 - 1s - loss: 0.4569 - accuracy: 0.8333 - val_loss: 0.4576 - val_accuracy: 0.8333 - 901ms/epoch - 225ms/step\n",
      "Epoch 32/100\n",
      "4/4 - 1s - loss: 0.4579 - accuracy: 0.8333 - val_loss: 0.4591 - val_accuracy: 0.8333 - 873ms/epoch - 218ms/step\n",
      "Epoch 33/100\n",
      "4/4 - 1s - loss: 0.4588 - accuracy: 0.8333 - val_loss: 0.4569 - val_accuracy: 0.8333 - 862ms/epoch - 215ms/step\n",
      "Epoch 34/100\n",
      "4/4 - 1s - loss: 0.4561 - accuracy: 0.8333 - val_loss: 0.4561 - val_accuracy: 0.8333 - 883ms/epoch - 221ms/step\n",
      "Epoch 35/100\n",
      "4/4 - 1s - loss: 0.4562 - accuracy: 0.8333 - val_loss: 0.4571 - val_accuracy: 0.8333 - 725ms/epoch - 181ms/step\n",
      "Epoch 36/100\n",
      "4/4 - 1s - loss: 0.4574 - accuracy: 0.8333 - val_loss: 0.4580 - val_accuracy: 0.8333 - 827ms/epoch - 207ms/step\n",
      "Epoch 37/100\n",
      "4/4 - 1s - loss: 0.4581 - accuracy: 0.8333 - val_loss: 0.4597 - val_accuracy: 0.8333 - 713ms/epoch - 178ms/step\n",
      "Epoch 38/100\n",
      "4/4 - 1s - loss: 0.4573 - accuracy: 0.8333 - val_loss: 0.4543 - val_accuracy: 0.8333 - 797ms/epoch - 199ms/step\n",
      "Epoch 39/100\n",
      "4/4 - 1s - loss: 0.4533 - accuracy: 0.8333 - val_loss: 0.4554 - val_accuracy: 0.8333 - 748ms/epoch - 187ms/step\n",
      "Epoch 40/100\n",
      "4/4 - 1s - loss: 0.4564 - accuracy: 0.8333 - val_loss: 0.4550 - val_accuracy: 0.8333 - 736ms/epoch - 184ms/step\n",
      "Epoch 41/100\n",
      "4/4 - 1s - loss: 0.4563 - accuracy: 0.8333 - val_loss: 0.4574 - val_accuracy: 0.8333 - 801ms/epoch - 200ms/step\n",
      "Epoch 42/100\n",
      "4/4 - 1s - loss: 0.4573 - accuracy: 0.8333 - val_loss: 0.4551 - val_accuracy: 0.8333 - 813ms/epoch - 203ms/step\n",
      "Epoch 43/100\n",
      "4/4 - 1s - loss: 0.4557 - accuracy: 0.8333 - val_loss: 0.4574 - val_accuracy: 0.8333 - 784ms/epoch - 196ms/step\n",
      "Epoch 44/100\n",
      "4/4 - 1s - loss: 0.4567 - accuracy: 0.8333 - val_loss: 0.4566 - val_accuracy: 0.8333 - 808ms/epoch - 202ms/step\n",
      "Epoch 45/100\n",
      "4/4 - 1s - loss: 0.4554 - accuracy: 0.8333 - val_loss: 0.4559 - val_accuracy: 0.8333 - 700ms/epoch - 175ms/step\n",
      "Epoch 46/100\n",
      "4/4 - 1s - loss: 0.4558 - accuracy: 0.8333 - val_loss: 0.4563 - val_accuracy: 0.8333 - 799ms/epoch - 200ms/step\n",
      "Epoch 47/100\n",
      "4/4 - 1s - loss: 0.4555 - accuracy: 0.8333 - val_loss: 0.4558 - val_accuracy: 0.8333 - 812ms/epoch - 203ms/step\n",
      "Epoch 48/100\n",
      "4/4 - 1s - loss: 0.4540 - accuracy: 0.8333 - val_loss: 0.4548 - val_accuracy: 0.8333 - 845ms/epoch - 211ms/step\n",
      "Epoch 49/100\n",
      "4/4 - 1s - loss: 0.4558 - accuracy: 0.8333 - val_loss: 0.4592 - val_accuracy: 0.8333 - 787ms/epoch - 197ms/step\n",
      "Epoch 50/100\n",
      "4/4 - 1s - loss: 0.4558 - accuracy: 0.8333 - val_loss: 0.4553 - val_accuracy: 0.8333 - 810ms/epoch - 202ms/step\n",
      "Epoch 51/100\n",
      "4/4 - 1s - loss: 0.4549 - accuracy: 0.8333 - val_loss: 0.4559 - val_accuracy: 0.8333 - 699ms/epoch - 175ms/step\n",
      "Epoch 52/100\n",
      "4/4 - 1s - loss: 0.4560 - accuracy: 0.8333 - val_loss: 0.4570 - val_accuracy: 0.8333 - 684ms/epoch - 171ms/step\n",
      "Epoch 53/100\n",
      "4/4 - 1s - loss: 0.4555 - accuracy: 0.8333 - val_loss: 0.4547 - val_accuracy: 0.8333 - 825ms/epoch - 206ms/step\n",
      "Epoch 54/100\n",
      "4/4 - 1s - loss: 0.4549 - accuracy: 0.8333 - val_loss: 0.4540 - val_accuracy: 0.8333 - 899ms/epoch - 225ms/step\n",
      "Epoch 55/100\n",
      "4/4 - 1s - loss: 0.4546 - accuracy: 0.8333 - val_loss: 0.4572 - val_accuracy: 0.8333 - 758ms/epoch - 189ms/step\n",
      "Epoch 56/100\n",
      "4/4 - 1s - loss: 0.4564 - accuracy: 0.8333 - val_loss: 0.4538 - val_accuracy: 0.8333 - 764ms/epoch - 191ms/step\n",
      "Epoch 57/100\n",
      "4/4 - 1s - loss: 0.4574 - accuracy: 0.8333 - val_loss: 0.4546 - val_accuracy: 0.8333 - 841ms/epoch - 210ms/step\n",
      "Epoch 58/100\n",
      "4/4 - 1s - loss: 0.4536 - accuracy: 0.8333 - val_loss: 0.4537 - val_accuracy: 0.8333 - 731ms/epoch - 183ms/step\n",
      "Epoch 59/100\n",
      "4/4 - 1s - loss: 0.4539 - accuracy: 0.8333 - val_loss: 0.4639 - val_accuracy: 0.8333 - 787ms/epoch - 197ms/step\n",
      "Epoch 60/100\n",
      "4/4 - 1s - loss: 0.4619 - accuracy: 0.8333 - val_loss: 0.4512 - val_accuracy: 0.8333 - 789ms/epoch - 197ms/step\n",
      "Epoch 61/100\n",
      "4/4 - 1s - loss: 0.4509 - accuracy: 0.8333 - val_loss: 0.4507 - val_accuracy: 0.8333 - 806ms/epoch - 201ms/step\n",
      "Epoch 62/100\n",
      "4/4 - 1s - loss: 0.4507 - accuracy: 0.8333 - val_loss: 0.4507 - val_accuracy: 0.8333 - 779ms/epoch - 195ms/step\n",
      "Epoch 63/100\n",
      "4/4 - 1s - loss: 0.4514 - accuracy: 0.8333 - val_loss: 0.4555 - val_accuracy: 0.8333 - 831ms/epoch - 208ms/step\n",
      "Epoch 64/100\n",
      "4/4 - 1s - loss: 0.4597 - accuracy: 0.8333 - val_loss: 0.4560 - val_accuracy: 0.8333 - 707ms/epoch - 177ms/step\n",
      "Epoch 65/100\n",
      "4/4 - 1s - loss: 0.4545 - accuracy: 0.8333 - val_loss: 0.4521 - val_accuracy: 0.8333 - 797ms/epoch - 199ms/step\n",
      "Epoch 66/100\n",
      "4/4 - 1s - loss: 0.4518 - accuracy: 0.8333 - val_loss: 0.4528 - val_accuracy: 0.8333 - 799ms/epoch - 200ms/step\n"
     ]
    },
    {
     "name": "stdout",
     "output_type": "stream",
     "text": [
      "Epoch 67/100\n",
      "4/4 - 1s - loss: 0.4545 - accuracy: 0.8333 - val_loss: 0.4562 - val_accuracy: 0.8333 - 841ms/epoch - 210ms/step\n",
      "Epoch 68/100\n",
      "4/4 - 1s - loss: 0.4554 - accuracy: 0.8333 - val_loss: 0.4528 - val_accuracy: 0.8333 - 889ms/epoch - 222ms/step\n",
      "Epoch 69/100\n",
      "4/4 - 1s - loss: 0.4529 - accuracy: 0.8333 - val_loss: 0.4530 - val_accuracy: 0.8333 - 876ms/epoch - 219ms/step\n",
      "Epoch 70/100\n",
      "4/4 - 1s - loss: 0.4544 - accuracy: 0.8333 - val_loss: 0.4543 - val_accuracy: 0.8333 - 988ms/epoch - 247ms/step\n",
      "Epoch 71/100\n",
      "4/4 - 1s - loss: 0.4544 - accuracy: 0.8333 - val_loss: 0.4535 - val_accuracy: 0.8333 - 902ms/epoch - 225ms/step\n",
      "Epoch 72/100\n",
      "4/4 - 1s - loss: 0.4535 - accuracy: 0.8333 - val_loss: 0.4529 - val_accuracy: 0.8333 - 877ms/epoch - 219ms/step\n",
      "Epoch 73/100\n",
      "4/4 - 1s - loss: 0.4541 - accuracy: 0.8333 - val_loss: 0.4541 - val_accuracy: 0.8333 - 836ms/epoch - 209ms/step\n",
      "Epoch 74/100\n",
      "4/4 - 1s - loss: 0.4540 - accuracy: 0.8333 - val_loss: 0.4523 - val_accuracy: 0.8333 - 815ms/epoch - 204ms/step\n",
      "Epoch 75/100\n",
      "4/4 - 1s - loss: 0.4534 - accuracy: 0.8333 - val_loss: 0.4540 - val_accuracy: 0.8333 - 817ms/epoch - 204ms/step\n",
      "Epoch 76/100\n",
      "4/4 - 1s - loss: 0.4537 - accuracy: 0.8333 - val_loss: 0.4524 - val_accuracy: 0.8333 - 820ms/epoch - 205ms/step\n",
      "Epoch 77/100\n",
      "4/4 - 1s - loss: 0.4534 - accuracy: 0.8333 - val_loss: 0.4543 - val_accuracy: 0.8333 - 822ms/epoch - 205ms/step\n",
      "Epoch 78/100\n",
      "4/4 - 1s - loss: 0.4542 - accuracy: 0.8333 - val_loss: 0.4528 - val_accuracy: 0.8333 - 831ms/epoch - 208ms/step\n",
      "Epoch 79/100\n",
      "4/4 - 1s - loss: 0.4534 - accuracy: 0.8333 - val_loss: 0.4540 - val_accuracy: 0.8333 - 835ms/epoch - 209ms/step\n",
      "Epoch 80/100\n",
      "4/4 - 1s - loss: 0.4543 - accuracy: 0.8333 - val_loss: 0.4534 - val_accuracy: 0.8333 - 859ms/epoch - 215ms/step\n",
      "Epoch 81/100\n",
      "4/4 - 1s - loss: 0.4533 - accuracy: 0.8333 - val_loss: 0.4528 - val_accuracy: 0.8333 - 738ms/epoch - 185ms/step\n",
      "Epoch 82/100\n",
      "4/4 - 1s - loss: 0.4532 - accuracy: 0.8333 - val_loss: 0.4528 - val_accuracy: 0.8333 - 719ms/epoch - 180ms/step\n",
      "Epoch 83/100\n",
      "4/4 - 1s - loss: 0.4539 - accuracy: 0.8333 - val_loss: 0.4533 - val_accuracy: 0.8333 - 815ms/epoch - 204ms/step\n",
      "Epoch 84/100\n",
      "4/4 - 1s - loss: 0.4542 - accuracy: 0.8333 - val_loss: 0.4529 - val_accuracy: 0.8333 - 805ms/epoch - 201ms/step\n",
      "Epoch 85/100\n",
      "4/4 - 1s - loss: 0.4527 - accuracy: 0.8333 - val_loss: 0.4530 - val_accuracy: 0.8333 - 772ms/epoch - 193ms/step\n",
      "Epoch 86/100\n",
      "4/4 - 1s - loss: 0.4535 - accuracy: 0.8333 - val_loss: 0.4532 - val_accuracy: 0.8333 - 828ms/epoch - 207ms/step\n",
      "Epoch 87/100\n",
      "4/4 - 1s - loss: 0.4539 - accuracy: 0.8333 - val_loss: 0.4523 - val_accuracy: 0.8333 - 813ms/epoch - 203ms/step\n",
      "Epoch 88/100\n",
      "4/4 - 1s - loss: 0.4521 - accuracy: 0.8333 - val_loss: 0.4535 - val_accuracy: 0.8333 - 827ms/epoch - 207ms/step\n",
      "Epoch 89/100\n",
      "4/4 - 1s - loss: 0.4538 - accuracy: 0.8333 - val_loss: 0.4535 - val_accuracy: 0.8333 - 853ms/epoch - 213ms/step\n",
      "Epoch 90/100\n",
      "4/4 - 1s - loss: 0.4540 - accuracy: 0.8333 - val_loss: 0.4529 - val_accuracy: 0.8333 - 852ms/epoch - 213ms/step\n",
      "Epoch 91/100\n",
      "4/4 - 1s - loss: 0.4534 - accuracy: 0.8333 - val_loss: 0.4528 - val_accuracy: 0.8333 - 829ms/epoch - 207ms/step\n",
      "Epoch 92/100\n",
      "4/4 - 1s - loss: 0.4528 - accuracy: 0.8333 - val_loss: 0.4529 - val_accuracy: 0.8333 - 876ms/epoch - 219ms/step\n",
      "Epoch 93/100\n",
      "4/4 - 1s - loss: 0.4531 - accuracy: 0.8333 - val_loss: 0.4532 - val_accuracy: 0.8333 - 849ms/epoch - 212ms/step\n",
      "Epoch 94/100\n",
      "4/4 - 1s - loss: 0.4533 - accuracy: 0.8333 - val_loss: 0.4528 - val_accuracy: 0.8333 - 852ms/epoch - 213ms/step\n",
      "Epoch 95/100\n",
      "4/4 - 1s - loss: 0.4528 - accuracy: 0.8333 - val_loss: 0.4549 - val_accuracy: 0.8333 - 678ms/epoch - 170ms/step\n",
      "Epoch 96/100\n",
      "4/4 - 1s - loss: 0.4538 - accuracy: 0.8333 - val_loss: 0.4520 - val_accuracy: 0.8333 - 792ms/epoch - 198ms/step\n",
      "Epoch 97/100\n",
      "4/4 - 1s - loss: 0.4519 - accuracy: 0.8333 - val_loss: 0.4522 - val_accuracy: 0.8333 - 863ms/epoch - 216ms/step\n",
      "Epoch 98/100\n",
      "4/4 - 1s - loss: 0.4528 - accuracy: 0.8333 - val_loss: 0.4531 - val_accuracy: 0.8333 - 885ms/epoch - 221ms/step\n",
      "Epoch 99/100\n",
      "4/4 - 1s - loss: 0.4547 - accuracy: 0.8333 - val_loss: 0.4531 - val_accuracy: 0.8333 - 853ms/epoch - 213ms/step\n",
      "Epoch 100/100\n",
      "4/4 - 1s - loss: 0.4526 - accuracy: 0.8333 - val_loss: 0.4522 - val_accuracy: 0.8333 - 932ms/epoch - 233ms/step\n"
     ]
    }
   ],
   "source": [
    "# 모델 훈련\n",
    "history = model.fit_generator(train_generator, # train_generator안에 X값, y값 다 있으니 generator만 주면 된다\n",
    "                              validation_data=validation_generator, # validatino_generator안에도 검증용 X,y데이터들이 다 있으니 generator로 주면 됨\n",
    "                              steps_per_epoch=4, # 한 번의 에포크(epoch)에서 훈련에 사용할 배치(batch)의 개수 지정; generator를 4번 부르겠다\n",
    "                              epochs=100, # 데이터셋을 한 번 훈련하는 과정; epoch은 100 이상은 줘야한다\n",
    "                              validation_steps=4, # 한 번의 에포크가 끝날 때, 검증에 사용되는 배치(batch)의 개수를 지정; validation_generator를 4번 불러서 나온 이미지들로 작업을 해라\n",
    "                              verbose=2)\n",
    "# 참고: validation_steps는 보통 내가 원하는 이미지 수에 flow할 때 지정한 batchsize로 나눈 값을 validation_steps로 지정"
   ]
  },
  {
   "cell_type": "code",
   "execution_count": 15,
   "id": "a81e24a2",
   "metadata": {},
   "outputs": [
    {
     "name": "stdout",
     "output_type": "stream",
     "text": [
      "23/23 [==============================] - 3s 149ms/step - loss: 0.4522 - accuracy: 0.8333\n"
     ]
    },
    {
     "data": {
      "text/plain": [
       "[0.4521627426147461, 0.8333333134651184]"
      ]
     },
     "execution_count": 15,
     "metadata": {},
     "output_type": "execute_result"
    }
   ],
   "source": [
    "# 모델 성능 평가\n",
    "model.evaluate(train_generator)"
   ]
  },
  {
   "cell_type": "code",
   "execution_count": 16,
   "id": "725a523f",
   "metadata": {},
   "outputs": [
    {
     "name": "stdout",
     "output_type": "stream",
     "text": [
      "26/26 [==============================] - 1s 33ms/step - loss: 0.4522 - accuracy: 0.8333\n"
     ]
    },
    {
     "data": {
      "text/plain": [
       "[0.4521802067756653, 0.8333333730697632]"
      ]
     },
     "execution_count": 16,
     "metadata": {},
     "output_type": "execute_result"
    }
   ],
   "source": [
    "model.evaluate(validation_generator)"
   ]
  },
  {
   "cell_type": "code",
   "execution_count": 17,
   "id": "0620ed9e",
   "metadata": {},
   "outputs": [
    {
     "data": {
      "image/png": "[encoded data removed]",
      "text/plain": [
       "<Figure size 432x288 with 1 Axes>"
      ]
     },
     "metadata": {
      "needs_background": "light"
     },
     "output_type": "display_data"
    },
    {
     "data": {
      "image/png": "[encoded data removed]",
      "text/plain": [
       "<Figure size 432x288 with 1 Axes>"
      ]
     },
     "metadata": {
      "needs_background": "light"
     },
     "output_type": "display_data"
    }
   ],
   "source": [
    "# 정확도 및 손실 시각화\n",
    "acc = history.history['accuracy']\n",
    "val_acc = history.history['val_accuracy']\n",
    "loss = history.history['loss']\n",
    "val_loss = history.history['val_loss']\n",
    "\n",
    "epochs = range(len(acc))\n",
    "\n",
    "plt.plot(epochs, acc, 'bo', label='Training accuracy')\n",
    "plt.plot(epochs, val_acc, 'b', label='Validation accuracy')\n",
    "plt.title('Training and validation accuracy')\n",
    "plt.legend()\n",
    "\n",
    "plt.figure()\n",
    "\n",
    "plt.plot(epochs, loss, 'go', label='Training loss')\n",
    "plt.plot(epochs, val_loss, 'g', label='Validation loss')\n",
    "plt.title('Training and validation loss')\n",
    "plt.legend()\n",
    "\n",
    "plt.show()"
   ]
  },
  {
   "cell_type": "code",
   "execution_count": null,
   "id": "386f84cb",
   "metadata": {},
   "outputs": [],
   "source": []
  }
 ],
 "metadata": {
  "kernelspec": {
   "display_name": "Python 3 (ipykernel)",
   "language": "python",
   "name": "python3"
  },
  "language_info": {
   "codemirror_mode": {
    "name": "ipython",
    "version": 3
   },
   "file_extension": ".py",
   "mimetype": "text/x-python",
   "name": "python",
   "nbconvert_exporter": "python",
   "pygments_lexer": "ipython3",
   "version": "3.9.12"
  }
 },
 "nbformat": 4,
 "nbformat_minor": 5
}
