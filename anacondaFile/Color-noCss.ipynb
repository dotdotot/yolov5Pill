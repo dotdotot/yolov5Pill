{
 "cells": [
  {
   "cell_type": "code",
   "execution_count": 1,
   "id": "337671ce",
   "metadata": {},
   "outputs": [],
   "source": [
    "# python으로 사용할 라이브러리들 import\n",
    "import numpy as np # numpy\n",
    "import cv2  # opencv2\n",
    "from sklearn.cluster import KMeans \n",
    "import matplotlib.pyplot as plt\n",
    "# 이미지의 크기를 확인\n",
    "from PIL import Image\n",
    "# 파일명 가져오기위해 import\n",
    "import os"
   ]
  },
  {
   "cell_type": "code",
   "execution_count": 2,
   "id": "79006637",
   "metadata": {},
   "outputs": [
    {
     "name": "stdout",
     "output_type": "stream",
     "text": [
      "1299 709\n"
     ]
    }
   ],
   "source": [
    "# 이미지 크기를 확인하고 yolo의 바운더링 박스 위치를 실좌표로 변환하여 \n",
    "# yolo로 탐지된 이미지에서 탐지된 객체만 잘라 새로운 이미지로 저장하는 코드\n",
    "# 사각 영역 지정을 위한 사진\n",
    "imagePath = 'C:\\\\vsCode\\PillProject\\yolov5ResultFile\\pill49\\pill49.jpg'\n",
    "txtPath =  \"C:\\\\vsCode\\PillProject\\yolov5ResultFile\\pill49\\labels\\pill49.txt\"\n",
    "image1 = Image.open(imagePath)\n",
    "\n",
    "width,height = image1.size\n",
    "print(width,height)"
   ]
  },
  {
   "cell_type": "code",
   "execution_count": 3,
   "id": "ca272e8a",
   "metadata": {},
   "outputs": [
    {
     "name": "stdout",
     "output_type": "stream",
     "text": [
      "247 233 286 164\n"
     ]
    }
   ],
   "source": [
    "# 바운더링 박스 좌표 읽기.\n",
    "f = open(txtPath, 'r')\n",
    "line = f.readline()\n",
    "# 공백을 기준으로 자르기\n",
    "space = line.split()\n",
    "\n",
    "x = float(space[1]) \n",
    "y = float(space[2]) \n",
    "w = float(space[3]) \n",
    "h = float(space[4]) \n",
    "\n",
    "img_w = width            # 이미지 가로\n",
    "img_h = height           # 이미지 세로\n",
    "\n",
    "dw = 1./img_w\n",
    "dh = 1./img_h\n",
    "\n",
    "x = x/dw\n",
    "y = y/dh\n",
    "w = round(w/dw)                 # Box 가로\n",
    "h = round(h/dh)                 # Box 세로\n",
    "\n",
    "x1 = round((2*x - w)/2)         # 좌측 최상단 x좌표\n",
    "y1 = round((2*y - h)/2)         # 좌측 최상단 y좌표\n",
    "\n",
    "print(str(x1) + ' ' + str(y1) + ' ' + str(w) + ' ' + str(h))\n",
    "\n",
    "image1.show()"
   ]
  },
  {
   "cell_type": "code",
   "execution_count": 4,
   "id": "0547fc6f",
   "metadata": {},
   "outputs": [
    {
     "name": "stdout",
     "output_type": "stream",
     "text": [
      "잘려진 사진 크기 : (286, 164)\n",
      "\n"
     ]
    }
   ],
   "source": [
    "# 이미지 자르기 crop함수 이용 ex. crop(left,up, rigth, down)\n",
    "croppedImage=image1.crop((x1,y1,x1 + w, y1 + h))\n",
    "\n",
    "print(\"잘려진 사진 크기 :\",croppedImage.size)\n",
    "\n",
    "file_path = os.path.splitext(imagePath)[0]\n",
    "pillPathSpile = file_path.split('/')[-1]\n",
    "pillName = 'croppedImage1.jpg'\n",
    "\n",
    "croppedImage.save(pillPathSpile + pillName)\n",
    "\n",
    "folder_path = ''\n",
    "for i in file_path.split('/')[0:-1]:\n",
    "  folder_path = folder_path + i + \"/\"\n",
    "print(folder_path)\n"
   ]
  },
  {
   "cell_type": "code",
   "execution_count": 5,
   "id": "b81c92d5",
   "metadata": {},
   "outputs": [
    {
     "name": "stdout",
     "output_type": "stream",
     "text": [
      "BGR : \t [206 163 112]\n",
      "hsv : \t [104 116 206]\n",
      "hsv 밝기(v) 증가 : \t [104 116 255]\n"
     ]
    },
    {
     "data": {
      "text/plain": [
       "True"
      ]
     },
     "execution_count": 5,
     "metadata": {},
     "output_type": "execute_result"
    }
   ],
   "source": [
    "imagePath = folder_path + pillPathSpile + pillName\n",
    "\n",
    "origin_image = cv2.imread(imagePath)\n",
    "hsv_image = cv2.cvtColor(origin_image, cv2.COLOR_BGR2HSV)\n",
    "\n",
    "val = 100\n",
    "array = np.full(hsv_image.shape, (0,0,val), dtype=np.uint8)\n",
    "\n",
    "val_add_image = cv2.add(hsv_image, array)\n",
    "\n",
    "print('BGR : \\t',origin_image[55,116,:])\n",
    "print('hsv : \\t',hsv_image[55,116,:])\n",
    "print('hsv 밝기(v) 증가 : \\t',val_add_image[55,116,:])\n",
    "\n",
    "# hsv방식으로 밝기를 증가시킨 뒤 다시 rgb방식으로 변환.\n",
    "# cv2_imshow를 한번에 보여주기위해 합친 것\n",
    "# val_add_image가 수정된 이미지\n",
    "val_add_image = cv2.cvtColor(val_add_image, cv2.COLOR_HSV2BGR)\n",
    "image = np.concatenate((origin_image,val_add_image), axis=1)\n",
    "\n",
    "cv2.imshow('',image)\n",
    "cv2.waitKey(0)\n",
    "\n",
    "# 기존 색깔들을 밝기를 최대로 증가시켰을 때 변화가 없음.\n",
    "# 이건 다양한 색깔의 알약들의 image들을 hsv방식으로 변환시켜 밝기를 최대로 증가시킨뒤\n",
    "# rgb방식으로 다시 변환하여 색깔을 판단하는 기준으로 사용할 수 있을지도 모르겠음.\n",
    "\n",
    "pillName = 'croppedImage2.jpg'\n",
    "\n",
    "# 변환된 이미지 저장.\n",
    "cv2.imwrite(folder_path + pillPathSpile + pillName, val_add_image)"
   ]
  },
  {
   "cell_type": "code",
   "execution_count": 6,
   "id": "1b34c27f",
   "metadata": {},
   "outputs": [],
   "source": [
    "# 이미지 클러스터링\n",
    "\n",
    "img = cv2.imread(folder_path + pillPathSpile + pillName)\n",
    "# img = cv2.resize(img,(480,480))\n",
    "z = img.reshape((-1,3))\n",
    "\n",
    "z = np.float32(z)\n",
    "\n",
    "criteria = (cv2.TERM_CRITERIA_EPS + cv2.TERM_CRITERIA_MAX_ITER,10,1.0)\n",
    "k3 = 3\n",
    "k6 = 6\n",
    "k9 = 9\n",
    "\n",
    "# 클러스터링을 3,6,9로 하였을 때 비교 하기위해서 3,6,9모두 \n",
    "ret3, label3, center3 = cv2.kmeans(z,k3,None,criteria,10,cv2.KMEANS_RANDOM_CENTERS)\n",
    "ret6, label6, center6 = cv2.kmeans(z,k6,None,criteria,10,cv2.KMEANS_RANDOM_CENTERS)\n",
    "ret9, label9, center9 = cv2.kmeans(z,k9,None,criteria,10,cv2.KMEANS_RANDOM_CENTERS)\n",
    "\n",
    "center3 = np.uint8(center3)\n",
    "res3 = center3[label3.flatten()]\n",
    "res3 = res3.reshape(img.shape)\n",
    "\n",
    "center6 = np.uint8(center6)\n",
    "res6 = center6[label6.flatten()]\n",
    "res6 = res6.reshape(img.shape)\n",
    "\n",
    "center9 = np.uint8(center9)\n",
    "res9 = center9[label9.flatten()]\n",
    "res9 = res9.reshape(img.shape)\n",
    "\n",
    "# 원본이미지와 클러스터링 이미지들 출력\n",
    "cv2.imshow('원본이미지',img)\n",
    "cv2.imshow('3가지 클러스터링 이미지',res3)\n",
    "# cv2_imshow(res6)\n",
    "# cv2_imshow(res9)\n",
    "\n",
    "cv2.waitKey(0)\n",
    "cv2.destroyAllWindows()"
   ]
  },
  {
   "cell_type": "code",
   "execution_count": 7,
   "id": "d127efd1",
   "metadata": {},
   "outputs": [
    {
     "name": "stdout",
     "output_type": "stream",
     "text": [
      "[149. 208. 251.]\n",
      "[244.  76.  84.]\n",
      "[218. 227. 249.]\n",
      "[0.60146256 0.047416   0.35112144]\n"
     ]
    }
   ],
   "source": [
    "# k의 값이 증가하며 색의 구별이 더 잘되는것이 확인가능하다.\n",
    "# 색상양자화 -> 이미지에서 색상 수를 줄이는 처리를 의미한다.\n",
    "# 해당 처리를 하는 보편적인 이유는 메모리를 줄여 연산 속도를 빠르게 하기 위함이지만\n",
    "# 알약이 어떤 색상인지 판단하는데에는 \n",
    "# opencv에서는 RGB순서가 아닌 BGR순서로 리턴되므로 RGB순서로 바꾸어주어야한다.\n",
    "# 채널을 BGR -> RGB로 변경\n",
    "image = cv2.cvtColor(res3, cv2.COLOR_BGR2RGB)\n",
    "\n",
    "# 차원이 분산되어있어 수치적 계산을 하기 어려우니 width, height를 한개의 array로 통합\n",
    "image = image.reshape((image.shape[0] * image.shape[1], 3)) # height, width 통합\n",
    "# print(image.shape)\n",
    "\n",
    "# scikit-learn의 k-mean 알고리즘으로 이미지를 학습\n",
    "k = 3 \n",
    "clt = KMeans(n_clusters = k)\n",
    "clt.fit(image)\n",
    "\n",
    "for center in clt.cluster_centers_:\n",
    "    print(center)\n",
    "\n",
    "def centroid_histogram(clt):\n",
    "    # 서로 다른 군집 수를 잡고 히스토그램을 만들기\n",
    "    # 각 클러스터에 할당된 픽셀 수를 기준으로 함\n",
    "    numLabels = np.arange(0, len(np.unique(clt.labels_)) + 1)\n",
    "    (hist, _) = np.histogram(clt.labels_, bins=numLabels)\n",
    "\n",
    "    # 합계가 1이 되도록 히스토그램을 정규화\n",
    "    hist = hist.astype(\"float\")\n",
    "    hist /= hist.sum()\n",
    "\n",
    "    # 히스토그램 return\n",
    "    return hist\n",
    "\n",
    "\n",
    "hist = centroid_histogram(clt)\n",
    "print(hist)"
   ]
  },
  {
   "cell_type": "code",
   "execution_count": 8,
   "id": "2d09293e",
   "metadata": {},
   "outputs": [
    {
     "data": {
      "image/png": "[encoded data removed]",
      "text/plain": [
       "<Figure size 432x288 with 1 Axes>"
      ]
     },
     "metadata": {
      "needs_background": "light"
     },
     "output_type": "display_data"
    }
   ],
   "source": [
    "def plot_colors(hist, centroids):\n",
    "    # 각 색상의 상대 빈도를 나타내는 막대 차트를 초기화\n",
    "    bar = np.zeros((50, 300, 3), dtype=\"uint8\")\n",
    "    startX = 0\n",
    "\n",
    "    # 각 클러스터의 백분율과 각 클러스터의 색을 겹칩니다.\n",
    "    for (percent, color) in zip(hist, centroids):\n",
    "        # 각 군집의 상대 백분율 표시\n",
    "        endX = startX + (percent * 300)\n",
    "        cv2.rectangle(bar, (int(startX), 0), (int(endX), 50),\n",
    "                      color.astype(\"uint8\").tolist(), -1)\n",
    "        startX = endX\n",
    "\n",
    "    # 바 return\n",
    "    return bar\n",
    "\n",
    "bar = plot_colors(hist, clt.cluster_centers_)\n",
    "\n",
    "# show our color bart\n",
    "plt.figure()\n",
    "plt.axis(\"off\")\n",
    "plt.imshow(bar)\n",
    "plt.show()"
   ]
  },
  {
   "cell_type": "code",
   "execution_count": 11,
   "id": "d4458d27",
   "metadata": {},
   "outputs": [
    {
     "name": "stdout",
     "output_type": "stream",
     "text": [
      "r = 149 g = 208 b = 251\n",
      "color :  파랑\n"
     ]
    }
   ],
   "source": [
    "# rgb값으로 색깔 판단하기 \n",
    "\n",
    "# 1. rgb값 추출하여 정수로 변환하기\n",
    "rgb_color = clt.cluster_centers_[0]\n",
    "\n",
    "# r값 추출\n",
    "r_color = rgb_color[0]\n",
    "r_color = round(r_color)\n",
    "\n",
    "# b값 추출\n",
    "g_color = rgb_color[1]\n",
    "g_color = round(g_color)\n",
    "\n",
    "# c값 추출\n",
    "b_color = rgb_color[2]\n",
    "b_color = round(b_color)\n",
    "\n",
    "# rgb값 확인\n",
    "print(\"r = {} g = {} b = {}\".format(r_color,g_color,b_color))\n",
    "\n",
    "# 2. 만들어진 기준표로 rgb값의 상한 하한을 확인하여 색깔추출하기\n",
    "# 하양 노랑 주황 분홍 빨강 갈색 연두 초록 철록 파랑 남색 자주 보라 회색 검정\n",
    "# 하양  200이상 200이상 200이상\n",
    "# 노랑 - 주황 210이상 100이하 75이하\n",
    "# 분홍 - 빨강 - 갈색  210 이상, 100이하, 50 이상 \n",
    "# 연두 - 초록  100이하 200이상 50이하\n",
    "# 청록 - 파랑 - 남색  50이하 100이하 210이상\n",
    "# 자주 - 보라 150상 50이하 210이상\n",
    "# 회색 - 검정 100이하 100 이하 100이하 \n",
    "\n",
    "color = ''\n",
    "\n",
    "# 하양 주황 빨강 파랑 초록구분하기.\n",
    "if(r_color >= 230):\n",
    "  if(g_color >= 230):\n",
    "    if(b_color >= 230):\n",
    "      color = \"하양\"\n",
    "    else:\n",
    "      color = \"색깔을 정확하게 확인할 수 없습니다.\"\n",
    "  elif(g_color >= 110):\n",
    "    if(b_color <= 120):\n",
    "      color = \"주황\"\n",
    "    else:\n",
    "      color = \"색깔을 정확하게 확인할 수 없습니다.\"\n",
    "  else:\n",
    "    if(b_color <= 120):\n",
    "      color = \"빨강\"\n",
    "    else:\n",
    "      color = \"색깔을 정확하게 확인할 수 없습니다.\"\n",
    "else:\n",
    "  if(g_color >= 180):\n",
    "    if(b_color >= 230):\n",
    "      color = \"파랑\"\n",
    "    else:\n",
    "      color = \"초록\"\n",
    "  else:\n",
    "    color = \"색깔을 정확하게 확인할 수 없습니다.\"\n",
    "    \n",
    "print(\"color : \",color)\n"
   ]
  },
  {
   "cell_type": "code",
   "execution_count": null,
   "id": "8c0971a5",
   "metadata": {},
   "outputs": [],
   "source": []
  },
  {
   "cell_type": "code",
   "execution_count": null,
   "id": "53746f74",
   "metadata": {},
   "outputs": [],
   "source": []
  },
  {
   "cell_type": "code",
   "execution_count": null,
   "id": "b2710911",
   "metadata": {},
   "outputs": [],
   "source": []
  },
  {
   "cell_type": "code",
   "execution_count": null,
   "id": "9f2765b7",
   "metadata": {},
   "outputs": [],
   "source": []
  },
  {
   "cell_type": "code",
   "execution_count": null,
   "id": "013d826a",
   "metadata": {},
   "outputs": [],
   "source": []
  },
  {
   "cell_type": "code",
   "execution_count": null,
   "id": "9b6e5a0f",
   "metadata": {},
   "outputs": [],
   "source": []
  },
  {
   "cell_type": "code",
   "execution_count": null,
   "id": "85d67de3",
   "metadata": {},
   "outputs": [],
   "source": []
  }
 ],
 "metadata": {
  "kernelspec": {
   "display_name": "Python 3 (ipykernel)",
   "language": "python",
   "name": "python3"
  },
  "language_info": {
   "codemirror_mode": {
    "name": "ipython",
    "version": 3
   },
   "file_extension": ".py",
   "mimetype": "text/x-python",
   "name": "python",
   "nbconvert_exporter": "python",
   "pygments_lexer": "ipython3",
   "version": "3.9.12"
  }
 },
 "nbformat": 4,
 "nbformat_minor": 5
}
