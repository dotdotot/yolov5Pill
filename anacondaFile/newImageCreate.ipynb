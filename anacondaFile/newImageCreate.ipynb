{
 "cells": [
  {
   "cell_type": "code",
   "execution_count": null,
   "id": "8c004365",
   "metadata": {},
   "outputs": [],
   "source": [
    "import os\n",
    "import glob\n",
    "from posixpath import split\n",
    "from PIL import Image\n",
    "\n",
    "file_list = os.listdir('C:\\pillImage\\img') \n",
    "img_files = [file for file in file_list if file.endswith('.jpg')]\n",
    "img_files = glob.glob('C:\\pillImage\\img\\\\*.jpg')\n",
    "\n",
    "image_number = input(\"image number : \")\n",
    "image_number = image_number.split()\n",
    "\n",
    "image_numbers = []\n",
    "index = 0\n",
    "for i in image_number:\n",
    "    image_numbers.append(int(image_number[index]) - 3)\n",
    "    index += 1\n",
    "\n",
    "image_number = 0\n",
    "for i in image_numbers:\n",
    "    img = Image.open('C:\\pillImage\\pill' + str(i) + '.jpg')\n",
    "    img.save('C:\\\\newImage\\\\shape\\\\' + str(3) + '\\\\triangle\\pill' + str(image_number) + '.jpg' , 'JPEG')\n",
    "    image_number += 1\n",
    "        "
   ]
  }
 ],
 "metadata": {
  "kernelspec": {
   "display_name": "Python 3 (ipykernel)",
   "language": "python",
   "name": "python3"
  },
  "language_info": {
   "codemirror_mode": {
    "name": "ipython",
    "version": 3
   },
   "file_extension": ".py",
   "mimetype": "text/x-python",
   "name": "python",
   "nbconvert_exporter": "python",
   "pygments_lexer": "ipython3",
   "version": "3.9.12"
  }
 },
 "nbformat": 4,
 "nbformat_minor": 5
}
